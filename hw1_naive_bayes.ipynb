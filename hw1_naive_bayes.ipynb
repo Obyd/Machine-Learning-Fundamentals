{
  "nbformat": 4,
  "nbformat_minor": 0,
  "metadata": {
    "kernelspec": {
      "display_name": "Python 3",
      "language": "python",
      "name": "python3"
    },
    "language_info": {
      "codemirror_mode": {
        "name": "ipython",
        "version": 3
      },
      "file_extension": ".py",
      "mimetype": "text/x-python",
      "name": "python",
      "nbconvert_exporter": "python",
      "pygments_lexer": "ipython3",
      "version": "3.6.7"
    },
    "colab": {
      "name": "hw1_naive_bayes.ipynb",
      "provenance": [],
      "collapsed_sections": [],
      "include_colab_link": true
    }
  },
  "cells": [
    {
      "cell_type": "markdown",
      "metadata": {
        "id": "view-in-github",
        "colab_type": "text"
      },
      "source": [
        "<a href=\"https://colab.research.google.com/github/Obyd/Machine-Learning-Fundamentals/blob/master/hw1_naive_bayes.ipynb\" target=\"_parent\"><img src=\"https://colab.research.google.com/assets/colab-badge.svg\" alt=\"Open In Colab\"/></a>"
      ]
    },
    {
      "cell_type": "markdown",
      "metadata": {
        "id": "3kMl81pn0_3N",
        "colab_type": "text"
      },
      "source": [
        "# Homework 1: Naive Bayes Classifier\n",
        "\n",
        "In this homework you will implement the Naive Bayes Classsifier on a data set of votes in the U.S. House of Representatives, with the goal of predicting the party affiliation of each congressman. The input data $X$ is given by a $N$-by-$D$ matrix, where $N$ is the number of examples and $D=16$ is the number of input features. Each feature is binary (yes/no). The targets are given by a length-$N$ sequence of classes, $Y$, that are also binary. More information on the data set can be found at  https://archive.ics.uci.edu/ml/datasets/Congressional+Voting+Records.\n",
        "\n"
      ]
    },
    {
      "cell_type": "markdown",
      "metadata": {
        "id": "7JXBHBH70_3P",
        "colab_type": "text"
      },
      "source": [
        "\n",
        "First, we need to download the data. The following code uses the urllib library to request data from a website. The pandas library is a powerful library for data analysis --- we use the read_csv method to automatically parse the comma seperated variable (csv) file."
      ]
    },
    {
      "cell_type": "code",
      "metadata": {
        "id": "kc-pnkGp0_3T",
        "colab_type": "code",
        "outputId": "5aebf977-100d-416b-84f8-f26fa792644a",
        "colab": {
          "base_uri": "https://localhost:8080/",
          "height": 221
        }
      },
      "source": [
        "import pandas \n",
        "import urllib.request  \n",
        "import numpy   # Numerical python.\n",
        "\n",
        "# Download the data.\n",
        "url = \"https://archive.ics.uci.edu/ml/machine-learning-databases/voting-records/house-votes-84.data\"\n",
        "response = urllib.request.urlopen(url)\n",
        "\n",
        "# Interpret text data into pandas data frame. Interpret 'abstain' votes as 'no'.\n",
        "dataset  = pandas.read_csv(response, header=None, true_values=['y'], false_values=['n','?'])\n",
        "\n",
        "# Set the column names.\n",
        "names = ['label'] + [f'vote_{i}' for i in range(16)]\n",
        "dataset.columns = names\n",
        "\n",
        "# Tells pandas that this is a categorical feature.\n",
        "dataset['label'] = pandas.Categorical(dataset['label'])\n",
        "\n",
        "print(\"Dataset shape: \", dataset.shape)\n",
        "dataset.head() # Prints first 5 examples from the data set."
      ],
      "execution_count": 0,
      "outputs": [
        {
          "output_type": "stream",
          "text": [
            "Dataset shape:  (435, 17)\n"
          ],
          "name": "stdout"
        },
        {
          "output_type": "execute_result",
          "data": {
            "text/html": [
              "<div>\n",
              "<style scoped>\n",
              "    .dataframe tbody tr th:only-of-type {\n",
              "        vertical-align: middle;\n",
              "    }\n",
              "\n",
              "    .dataframe tbody tr th {\n",
              "        vertical-align: top;\n",
              "    }\n",
              "\n",
              "    .dataframe thead th {\n",
              "        text-align: right;\n",
              "    }\n",
              "</style>\n",
              "<table border=\"1\" class=\"dataframe\">\n",
              "  <thead>\n",
              "    <tr style=\"text-align: right;\">\n",
              "      <th></th>\n",
              "      <th>label</th>\n",
              "      <th>vote_0</th>\n",
              "      <th>vote_1</th>\n",
              "      <th>vote_2</th>\n",
              "      <th>vote_3</th>\n",
              "      <th>vote_4</th>\n",
              "      <th>vote_5</th>\n",
              "      <th>vote_6</th>\n",
              "      <th>vote_7</th>\n",
              "      <th>vote_8</th>\n",
              "      <th>vote_9</th>\n",
              "      <th>vote_10</th>\n",
              "      <th>vote_11</th>\n",
              "      <th>vote_12</th>\n",
              "      <th>vote_13</th>\n",
              "      <th>vote_14</th>\n",
              "      <th>vote_15</th>\n",
              "    </tr>\n",
              "  </thead>\n",
              "  <tbody>\n",
              "    <tr>\n",
              "      <th>0</th>\n",
              "      <td>republican</td>\n",
              "      <td>False</td>\n",
              "      <td>True</td>\n",
              "      <td>False</td>\n",
              "      <td>True</td>\n",
              "      <td>True</td>\n",
              "      <td>True</td>\n",
              "      <td>False</td>\n",
              "      <td>False</td>\n",
              "      <td>False</td>\n",
              "      <td>True</td>\n",
              "      <td>False</td>\n",
              "      <td>True</td>\n",
              "      <td>True</td>\n",
              "      <td>True</td>\n",
              "      <td>False</td>\n",
              "      <td>True</td>\n",
              "    </tr>\n",
              "    <tr>\n",
              "      <th>1</th>\n",
              "      <td>republican</td>\n",
              "      <td>False</td>\n",
              "      <td>True</td>\n",
              "      <td>False</td>\n",
              "      <td>True</td>\n",
              "      <td>True</td>\n",
              "      <td>True</td>\n",
              "      <td>False</td>\n",
              "      <td>False</td>\n",
              "      <td>False</td>\n",
              "      <td>False</td>\n",
              "      <td>False</td>\n",
              "      <td>True</td>\n",
              "      <td>True</td>\n",
              "      <td>True</td>\n",
              "      <td>False</td>\n",
              "      <td>False</td>\n",
              "    </tr>\n",
              "    <tr>\n",
              "      <th>2</th>\n",
              "      <td>democrat</td>\n",
              "      <td>False</td>\n",
              "      <td>True</td>\n",
              "      <td>True</td>\n",
              "      <td>False</td>\n",
              "      <td>True</td>\n",
              "      <td>True</td>\n",
              "      <td>False</td>\n",
              "      <td>False</td>\n",
              "      <td>False</td>\n",
              "      <td>False</td>\n",
              "      <td>True</td>\n",
              "      <td>False</td>\n",
              "      <td>True</td>\n",
              "      <td>True</td>\n",
              "      <td>False</td>\n",
              "      <td>False</td>\n",
              "    </tr>\n",
              "    <tr>\n",
              "      <th>3</th>\n",
              "      <td>democrat</td>\n",
              "      <td>False</td>\n",
              "      <td>True</td>\n",
              "      <td>True</td>\n",
              "      <td>False</td>\n",
              "      <td>False</td>\n",
              "      <td>True</td>\n",
              "      <td>False</td>\n",
              "      <td>False</td>\n",
              "      <td>False</td>\n",
              "      <td>False</td>\n",
              "      <td>True</td>\n",
              "      <td>False</td>\n",
              "      <td>True</td>\n",
              "      <td>False</td>\n",
              "      <td>False</td>\n",
              "      <td>True</td>\n",
              "    </tr>\n",
              "    <tr>\n",
              "      <th>4</th>\n",
              "      <td>democrat</td>\n",
              "      <td>True</td>\n",
              "      <td>True</td>\n",
              "      <td>True</td>\n",
              "      <td>False</td>\n",
              "      <td>True</td>\n",
              "      <td>True</td>\n",
              "      <td>False</td>\n",
              "      <td>False</td>\n",
              "      <td>False</td>\n",
              "      <td>False</td>\n",
              "      <td>True</td>\n",
              "      <td>False</td>\n",
              "      <td>True</td>\n",
              "      <td>True</td>\n",
              "      <td>True</td>\n",
              "      <td>True</td>\n",
              "    </tr>\n",
              "  </tbody>\n",
              "</table>\n",
              "</div>"
            ],
            "text/plain": [
              "        label  vote_0  vote_1  vote_2  ...  vote_12  vote_13  vote_14  vote_15\n",
              "0  republican   False    True   False  ...     True     True    False     True\n",
              "1  republican   False    True   False  ...     True     True    False    False\n",
              "2    democrat   False    True    True  ...     True     True    False    False\n",
              "3    democrat   False    True    True  ...     True    False    False     True\n",
              "4    democrat    True    True    True  ...     True     True     True     True\n",
              "\n",
              "[5 rows x 17 columns]"
            ]
          },
          "metadata": {
            "tags": []
          },
          "execution_count": 7
        }
      ]
    },
    {
      "cell_type": "markdown",
      "metadata": {
        "id": "ks-snVmYvSW2",
        "colab_type": "text"
      },
      "source": [
        "Numpy is a powerful library for mathematical operations on vectors and matrices. Here we convert the pandas data into a 2-dimensional numpy array (a matrix). "
      ]
    },
    {
      "cell_type": "code",
      "metadata": {
        "id": "OJjff58Uu4kw",
        "colab_type": "code",
        "outputId": "81d83d33-75b2-4771-d77a-777a816c63bc",
        "colab": {
          "base_uri": "https://localhost:8080/",
          "height": 51
        }
      },
      "source": [
        "X = numpy.array(dataset.iloc[:,1:]) # Convert input features into Numpy array.\n",
        "Y = dataset['label'].cat.codes # Converts string labels to binary values.\n",
        "\n",
        "# Split data into train and test set. Use the first 335 examples for training.\n",
        "num_train = 335\n",
        "Xtrain = X[0:num_train, :]\n",
        "Xtest  = X[num_train:,:]\n",
        "Ytrain=Y[:num_train]\n",
        "Ytest=Y[num_train:]\n",
        "print(Xtrain.shape, Xtest.shape)\n",
        "print(Ytrain.shape, Ytest.shape)"
      ],
      "execution_count": 0,
      "outputs": [
        {
          "output_type": "stream",
          "text": [
            "(335, 16) (100, 16)\n",
            "(335,) (100,)\n"
          ],
          "name": "stdout"
        }
      ]
    },
    {
      "cell_type": "markdown",
      "metadata": {
        "id": "MZGCc_KHu6yR",
        "colab_type": "text"
      },
      "source": [
        "You are asked to implement the following functions."
      ]
    },
    {
      "cell_type": "code",
      "metadata": {
        "id": "cCpOIkEA0_3X",
        "colab_type": "code",
        "colab": {}
      },
      "source": [
        "def generative_model(Xtrain, Ytrain):\n",
        "    ''' \n",
        "    Implements a generative algorithm on binary data.\n",
        "    Inputs\n",
        "        Xtrain: NxD matrix of features.\n",
        "        Ytrain: N vector of class labels\n",
        "    \n",
        "    Returns\n",
        "        p_label: Length 2 vector of class probabilities.\n",
        "        p_votes: 2xD Matrix where entry i,j is p(x_j|v=i).\n",
        "    ''' \n",
        "    # WRITE ME \n",
        "    p_label=numpy.zeros(2)\n",
        "    p_votes=numpy.zeros((2,16))\n",
        "    for i in range(Xtrain.shape[0]):\n",
        "      if Ytrain[i]==0:\n",
        "        p_label[0]+=1\n",
        "    p_label[1]=Xtrain.shape[0]-p_label[0]\n",
        "    \n",
        "    for i in range(Xtrain.shape[1]):\n",
        "      for j in range(Xtrain.shape[0]):\n",
        "        if Ytrain[j]==0:\n",
        "          if Xtrain[j,i]==1:\n",
        "            p_votes[0,i]+=1/p_label[0]\n",
        "        else:\n",
        "          if Xtrain[j,i]==1:\n",
        "            p_votes[1,i]+=1/p_label[1]\n",
        "\n",
        "    p_label=p_label/Xtrain.shape[0]\n",
        "    return p_label, p_votes\n",
        "  \n",
        "def discriminative_model(p_label, p_votes, Xtest):\n",
        "    '''\n",
        "    Implements Naive Bayes Classification.\n",
        "    Inputs\n",
        "      p_label, p_votes: From generative_model.\n",
        "      Xtest: NxD matrix of binary features.\n",
        "    \n",
        "    Outputs \n",
        "      pred_prob: Probability of label=1 under model.\n",
        "    '''\n",
        "    # WRITE ME\n",
        "    prob_dem=numpy.zeros(Xtest.shape[0])\n",
        "    prob_rep=numpy.zeros(Xtest.shape[0])\n",
        "    pred_prob=numpy.zeros(Xtest.shape[0])\n",
        "    for i in range(Xtest.shape[0]):\n",
        "      for j in range(Xtest.shape[1]):\n",
        "        if Xtest[i,j]==1:\n",
        "          if j==0:\n",
        "            prob_dem[i]=p_votes[0,j]\n",
        "            prob_rep[i]=p_votes[1,j]\n",
        "          else:\n",
        "            prob_dem[i]=prob_dem[i]*p_votes[0,j]\n",
        "            prob_rep[i]=prob_rep[i]*p_votes[1,j]\n",
        "        else:\n",
        "          if j==0:\n",
        "            prob_dem[i]=1-p_votes[0,j]\n",
        "            prob_rep[i]=1-p_votes[1,j]\n",
        "          else:\n",
        "            prob_dem[i]=prob_dem[i]*(1-p_votes[0,j])\n",
        "            prob_rep[i]=prob_rep[i]*(1-p_votes[1,j])\n",
        "      pred_prob[i]=((prob_rep[i]*p_label[1])/(prob_dem[i]*p_label[0]+\n",
        "                                               prob_rep[i]*p_label[1]))\n",
        "    return pred_prob\n",
        "\n",
        "def accuracy(y_true, y_predicted):\n",
        "    ''' Calculates the fraction of correct predictions.\n",
        "    '''\n",
        "    assert(len(y_true) == len(y_predicted))\n",
        "    # WRITE ME\n",
        "    pred_results=numpy.zeros(len(y_predicted))\n",
        "    for i in range(len(y_predicted)):\n",
        "      pred_results[i]=int(round(y_predicted[i]))\n",
        "      \n",
        "    correct_pred=1-sum(abs(y_true-pred_results))/len(y_true)\n",
        "    return correct_pred\n",
        "    "
      ],
      "execution_count": 0,
      "outputs": []
    },
    {
      "cell_type": "code",
      "metadata": {
        "id": "FF7rD-7j7-OB",
        "colab_type": "code",
        "colab": {}
      },
      "source": [
        "def logprediction(p_label, p_votes, Xtest):\n",
        "    '''Calculates the log probability of the Naive Bayes Classification\n",
        "    '''\n",
        "    pred_prob=numpy.zeros(Xtest.shape[0])\n",
        "    for i in range(Xtest.shape[0]):\n",
        "      exponent=0\n",
        "      for j in range(len(p_votes)):\n",
        "        if Xtest[i,j]==1:\n",
        "          exponent = exponent + numpy.log(p_votes[1,j])\n",
        "        else:\n",
        "          exponent = exponent + numpy.log(1-p_votes[1,j])\n",
        "      pred_prob[i]=numpy.exp(numpy.log(p_label[1])+exponent)\n",
        "\n",
        "    return pred_prob  "
      ],
      "execution_count": 0,
      "outputs": []
    },
    {
      "cell_type": "code",
      "metadata": {
        "id": "huiM_v_7AQc1",
        "colab_type": "code",
        "outputId": "056f2184-66c7-4527-dc4d-1fd1dd206cb6",
        "colab": {
          "base_uri": "https://localhost:8080/",
          "height": 561
        }
      },
      "source": [
        "# Make sure to print these for submission.\n",
        "p_label, p_votes = generative_model(Xtrain, Ytrain)\n",
        "print('Label priors:', p_label)\n",
        "print('Conditional vote probabilities:', p_votes)\n",
        "\n",
        "pred_prob = discriminative_model(p_label, p_votes, Xtest)\n",
        "print('Predictions:', pred_prob)"
      ],
      "execution_count": 0,
      "outputs": [
        {
          "output_type": "stream",
          "text": [
            "Label priors: [0.62089552 0.37910448]\n",
            "Conditional vote probabilities: [[0.58653846 0.40384615 0.88461538 0.03365385 0.16346154 0.41346154\n",
            "  0.77884615 0.83653846 0.74519231 0.45192308 0.44230769 0.11538462\n",
            "  0.24519231 0.33173077 0.62980769 0.64903846]\n",
            " [0.16535433 0.46456693 0.11023622 0.96850394 0.94488189 0.86614173\n",
            "  0.23622047 0.12598425 0.09448819 0.54330709 0.08661417 0.81889764\n",
            "  0.81102362 0.94488189 0.08661417 0.54330709]]\n",
            "Predictions: [9.99999899e-01 4.95640927e-06 3.63198586e-11 1.80963571e-09\n",
            " 9.99998953e-01 9.99997918e-01 4.11813135e-10 6.62684047e-05\n",
            " 9.75348251e-01 4.48636963e-11 9.99949158e-01 9.99999981e-01\n",
            " 9.99999913e-01 2.82386635e-09 9.85339654e-01 8.03188656e-07\n",
            " 8.08427700e-01 4.10067045e-04 9.99888994e-01 4.41144464e-09\n",
            " 1.81942458e-05 9.99999983e-01 9.99999983e-01 3.24919501e-05\n",
            " 9.99999981e-01 1.14011503e-07 1.87073748e-02 6.05272439e-07\n",
            " 9.99322094e-01 9.99955946e-01 9.97583651e-01 4.89728308e-09\n",
            " 2.81548613e-07 1.23638351e-07 9.99999264e-01 1.72665393e-08\n",
            " 1.04332005e-10 9.99906669e-01 5.02742758e-01 9.99999979e-01\n",
            " 9.99998492e-01 4.34259179e-12 9.99983658e-01 9.99999973e-01\n",
            " 9.99999973e-01 7.68073474e-09 8.22234377e-05 9.99971660e-01\n",
            " 1.32021373e-06 9.99921365e-01 9.87214966e-01 2.22830494e-04\n",
            " 4.91206512e-05 9.99999155e-01 6.75054471e-12 8.69826275e-01\n",
            " 6.09240779e-09 9.99998729e-01 2.10345150e-02 8.41360162e-03\n",
            " 1.77506634e-09 1.88851539e-05 7.36882583e-01 1.53354215e-03\n",
            " 9.99999170e-01 9.99993748e-01 9.99999921e-01 6.13148005e-02\n",
            " 9.99999875e-01 9.99999895e-01 9.99999973e-01 1.22535448e-01\n",
            " 9.99999854e-01 3.99126091e-07 9.99999983e-01 9.99999773e-01\n",
            " 1.03180617e-09 9.99999981e-01 4.53163127e-01 8.34594506e-10\n",
            " 2.21818707e-06 9.99996349e-01 1.90210257e-09 3.37478434e-08\n",
            " 8.34594506e-10 9.16307064e-01 1.18758269e-05 2.85431632e-10\n",
            " 1.26251489e-08 1.98440113e-09 1.95459726e-09 5.24013220e-11\n",
            " 9.99992384e-01 3.06762670e-07 1.81657916e-09 9.99967330e-01\n",
            " 6.73187535e-09 9.99999773e-01 9.99999973e-01 9.99999991e-01]\n"
          ],
          "name": "stdout"
        }
      ]
    },
    {
      "cell_type": "code",
      "metadata": {
        "id": "FQWfXehI8Abm",
        "colab_type": "code",
        "outputId": "88911cd4-904a-40cd-e22e-a8610e7d1e26",
        "colab": {
          "base_uri": "https://localhost:8080/",
          "height": 51
        }
      },
      "source": [
        "corret_pred = accuracy(Ytest,pred_prob)\n",
        "print('Percent of Correct Predictions:',corret_pred)\n",
        "\n",
        "new_pred = logprediction(p_label, p_votes, Xtest)\n",
        "\n",
        "log_correct = accuracy(Ytest,new_pred)\n",
        "print('Percent of Correct Predictions:',log_correct)"
      ],
      "execution_count": 0,
      "outputs": [
        {
          "output_type": "stream",
          "text": [
            "Percent of Correct Predictions: 0.85\n",
            "Percent of Correct Predictions: 0.5900000000000001\n"
          ],
          "name": "stdout"
        }
      ]
    },
    {
      "cell_type": "markdown",
      "metadata": {
        "id": "Re2cC82D0_3e",
        "colab_type": "text"
      },
      "source": [
        "## To turn in:\n",
        "1) Implement the Naive Bayes Classifier using the starter code above. Make sure to print out the parameters of the generative model and the predictions on the test points.\n",
        "\n",
        "2) Compute the log probability of the test set --- this is a single scalar value.\n",
        "\n",
        "3) Compare the NB classifier to a model in which we predict a 50-50 chance for each vote, in terms of accuracy and the log probability. Which model is better and why? Describe two situations in which the Naive Bayes Classifier will fail. \n",
        "\n"
      ]
    },
    {
      "cell_type": "markdown",
      "metadata": {
        "id": "I4xO_PprMQBv",
        "colab_type": "text"
      },
      "source": [
        "3) If we predict a 50-50 chance for each vote then any politician \n",
        "\n",
        "The Naive Bayes Classifier has a possibility to fail in situations where x_i and x_j are not truly indepent, and where there is extraneous data.\n",
        "An example of the first situation is if we are determining sickness vs health and we account something like having watery eyes with having a running nose.\n",
        "An example of the second situation is if we are again determining health, and we have some of the conditions being stuff that has nothing to do with health like if someone had coffee that morning."
      ]
    }
  ]
}